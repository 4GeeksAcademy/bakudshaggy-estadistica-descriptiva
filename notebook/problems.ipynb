{
    "cells": [
        {
            "cell_type": "markdown",
            "id": "ac622319",
            "metadata": {},
            "source": [
                "# Descriptive statistics problems"
            ]
        },
        {
            "cell_type": "markdown",
            "id": "5e0ab0d5",
            "metadata": {},
            "source": [
                "### Exercise 1\n",
                "\n",
                "We will use NumPy to obtain information to describe statistically.\n",
                "\n",
                "- Generate an array of 100 elements following a normal distribution.\n",
                "- Generate an array of 100 elements following a chi-square distribution with 3 degrees of freedom.\n",
                "- Calculate the main metrics and statistical measures that best describe the two vectors."
            ]
        },
        {
            "cell_type": "code",
            "execution_count": null,
            "id": "34720ab6",
            "metadata": {},
            "outputs": [
                {
                    "name": "stdout",
                    "output_type": "stream",
                    "text": [
                        "Normal Distribution Results:\n",
                        "  Mean: -0.16315580727556783\n",
                        "  Median: -0.05370970815960316\n",
                        "  Mode: 0.7641502555694485\n",
                        "  Range: 4.63645256366818\n",
                        "  Variance: 0.9188884761289218\n",
                        "  Standard Deviation: 0.9585867076738138\n",
                        "  Skewness: -0.1715010698970112\n",
                        "  Kurtosis: -0.2268227719326661\n",
                        "\n",
                        "Chi-Squared Distribution Results:\n",
                        "  Mean: 3.4067278774739034\n",
                        "  Median: 2.7504479129684816\n",
                        "  Mode: 1.4009755037493568\n",
                        "  Range: 15.31472189863419\n",
                        "  Variance: 7.778012603897238\n",
                        "  Standard Deviation: 2.788908855430245\n",
                        "  Skewness: 1.9262188503379276\n",
                        "  Kurtosis: 4.7610701979708425\n"
                    ]
                }
            ],
            "source": [
                "# TODO\n",
                "# Como abordar la parte de interpretar/analizar el resultado cuando los \"tipos\" de listas ya estan predefinidos, no son datos ya esperados?\n",
                "import numpy as np\n",
                "import matplotlib.pyplot as plt\n",
                "import statistics as stats\n",
                "from scipy.stats import skew\n",
                "from scipy.stats import kurtosis\n",
                "from numpy import random\n",
                "normal_array = random.normal(size = 100)\n",
                "chi_array = random.chisquare(df = 3, size = 100)\n",
                "normal_mean = stats.mean(normal_array)\n",
                "chi_mean = stats.mean(chi_array)\n",
                "normal_median = stats.median(normal_array)\n",
                "chi_median = stats.median(chi_array)\n",
                "normal_mode = stats.mode(normal_array)\n",
                "chi_mode = stats.mode(chi_array)\n",
                "normal_range = max(normal_array) - min(normal_array)\n",
                "chi_range = max(chi_array) - min(chi_array)\n",
                "normal_var = stats.variance(normal_array)\n",
                "chi_var = stats.variance(chi_array)\n",
                "normal_std = stats.stdev(normal_array)\n",
                "chi_std = stats.stdev(chi_array)\n",
                "normal_skew = skew(normal_array)\n",
                "chi_skew = skew(chi_array)\n",
                "normal_kurtosis = kurtosis(normal_array)\n",
                "chi_kurtosis = kurtosis(chi_array)\n",
                "\n",
                "print(\"Normal Distribution Results:\")\n",
                "print(f\"  Mean: {normal_mean}\")\n",
                "print(f\"  Median: {normal_median}\")\n",
                "print(f\"  Mode: {normal_mode}\")\n",
                "print(f\"  Range: {normal_range}\")\n",
                "print(f\"  Variance: {normal_var}\")\n",
                "print(f\"  Standard Deviation: {normal_std}\")\n",
                "print(f\"  Skewness: {normal_skew}\")\n",
                "print(f\"  Kurtosis: {normal_kurtosis}\")\n",
                "\n",
                "print(\"\\nChi-Squared Distribution Results:\")\n",
                "print(f\"  Mean: {chi_mean}\")\n",
                "print(f\"  Median: {chi_median}\")\n",
                "print(f\"  Mode: {chi_mode}\")\n",
                "print(f\"  Range: {chi_range}\")\n",
                "print(f\"  Variance: {chi_var}\")\n",
                "print(f\"  Standard Deviation: {chi_std}\")\n",
                "print(f\"  Skewness: {chi_skew}\")\n",
                "print(f\"  Kurtosis: {chi_kurtosis}\")"
            ]
        },
        {
            "cell_type": "markdown",
            "id": "46c70c3d",
            "metadata": {},
            "source": [
                "### Exercise 2\n",
                "\n",
                "Write a Python program to calculate the standard deviation of the following data:\n",
                "\n",
                "```py\n",
                "data = [4, 2, 5, 8, 6]\n",
                "```"
            ]
        },
        {
            "cell_type": "code",
            "execution_count": null,
            "id": "d590308e",
            "metadata": {},
            "outputs": [
                {
                    "name": "stdout",
                    "output_type": "stream",
                    "text": [
                        "The standard deviation is: 2.0\n"
                    ]
                }
            ],
            "source": [
                "# TODO\n",
                "# En esta caso use la varianza poblacional, basandome en que tenemos todos los datos\n",
                "import math\n",
                "import sys\n",
                "\n",
                "def calculate_std(data):\n",
                "    mean = sum(data) / len(data)\n",
                "    variance = sum((x - mean) ** 2 for x in data) / len(data)\n",
                "    standard_deviaton = math.sqrt(variance)\n",
                "    return standard_deviaton\n",
                "data = [4, 2, 5, 8, 6]\n",
                "std_dev = calculate_std(data)\n",
                "print(f\"The standard deviation is: {std_dev}\")\n",
                "    "
            ]
        }
    ],
    "metadata": {
        "kernelspec": {
            "display_name": "Python 3",
            "language": "python",
            "name": "python3"
        },
        "language_info": {
            "codemirror_mode": {
                "name": "ipython",
                "version": 3
            },
            "file_extension": ".py",
            "mimetype": "text/x-python",
            "name": "python",
            "nbconvert_exporter": "python",
            "pygments_lexer": "ipython3",
            "version": "3.11.4"
        }
    },
    "nbformat": 4,
    "nbformat_minor": 5
}
